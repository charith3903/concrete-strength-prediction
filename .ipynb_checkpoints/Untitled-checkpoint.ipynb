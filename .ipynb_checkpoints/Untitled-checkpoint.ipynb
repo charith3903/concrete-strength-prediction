{
 "cells": [
  {
   "cell_type": "code",
   "execution_count": 1,
   "id": "2ccbd68b",
   "metadata": {},
   "outputs": [
    {
     "name": "stdout",
     "output_type": "stream",
     "text": [
      "Requirement already satisfied: pandas in c:\\users\\chari\\anaconda3\\envs\\gametrick\\lib\\site-packages (1.3.5)\n",
      "Requirement already satisfied: scikit-learn in c:\\users\\chari\\anaconda3\\envs\\gametrick\\lib\\site-packages (1.0.2)\n",
      "Requirement already satisfied: keras in c:\\users\\chari\\anaconda3\\envs\\gametrick\\lib\\site-packages (2.3.1)\n",
      "Requirement already satisfied: python-dateutil>=2.7.3 in c:\\users\\chari\\anaconda3\\envs\\gametrick\\lib\\site-packages (from pandas) (2.8.2)\n",
      "Requirement already satisfied: pytz>=2017.3 in c:\\users\\chari\\anaconda3\\envs\\gametrick\\lib\\site-packages (from pandas) (2024.1)\n",
      "Requirement already satisfied: numpy>=1.17.3 in c:\\users\\chari\\anaconda3\\envs\\gametrick\\lib\\site-packages (from pandas) (1.21.6)\n",
      "Requirement already satisfied: scipy>=1.1.0 in c:\\users\\chari\\anaconda3\\envs\\gametrick\\lib\\site-packages (from scikit-learn) (1.7.3)\n",
      "Requirement already satisfied: joblib>=0.11 in c:\\users\\chari\\anaconda3\\envs\\gametrick\\lib\\site-packages (from scikit-learn) (1.3.2)\n",
      "Requirement already satisfied: threadpoolctl>=2.0.0 in c:\\users\\chari\\anaconda3\\envs\\gametrick\\lib\\site-packages (from scikit-learn) (3.1.0)\n",
      "Requirement already satisfied: six>=1.9.0 in c:\\users\\chari\\anaconda3\\envs\\gametrick\\lib\\site-packages (from keras) (1.16.0)\n",
      "Requirement already satisfied: pyyaml in c:\\users\\chari\\anaconda3\\envs\\gametrick\\lib\\site-packages (from keras) (6.0)\n",
      "Requirement already satisfied: h5py in c:\\users\\chari\\anaconda3\\envs\\gametrick\\lib\\site-packages (from keras) (2.10.0)\n",
      "Requirement already satisfied: keras-applications>=1.0.6 in c:\\users\\chari\\anaconda3\\envs\\gametrick\\lib\\site-packages (from keras) (1.0.8)\n",
      "Requirement already satisfied: keras-preprocessing>=1.0.5 in c:\\users\\chari\\anaconda3\\envs\\gametrick\\lib\\site-packages (from keras) (1.1.2)\n",
      "Note: you may need to restart the kernel to use updated packages.\n"
     ]
    }
   ],
   "source": [
    "pip install pandas scikit-learn keras\n"
   ]
  },
  {
   "cell_type": "code",
   "execution_count": 2,
   "id": "f34a65b0",
   "metadata": {},
   "outputs": [
    {
     "name": "stderr",
     "output_type": "stream",
     "text": [
      "Using TensorFlow backend.\n",
      "C:\\Users\\chari\\anaconda3\\envs\\gametrick\\lib\\site-packages\\tensorflow\\python\\framework\\dtypes.py:516: FutureWarning: Passing (type, 1) or '1type' as a synonym of type is deprecated; in a future version of numpy, it will be understood as (type, (1,)) / '(1,)type'.\n",
      "  _np_qint8 = np.dtype([(\"qint8\", np.int8, 1)])\n",
      "C:\\Users\\chari\\anaconda3\\envs\\gametrick\\lib\\site-packages\\tensorflow\\python\\framework\\dtypes.py:517: FutureWarning: Passing (type, 1) or '1type' as a synonym of type is deprecated; in a future version of numpy, it will be understood as (type, (1,)) / '(1,)type'.\n",
      "  _np_quint8 = np.dtype([(\"quint8\", np.uint8, 1)])\n",
      "C:\\Users\\chari\\anaconda3\\envs\\gametrick\\lib\\site-packages\\tensorflow\\python\\framework\\dtypes.py:518: FutureWarning: Passing (type, 1) or '1type' as a synonym of type is deprecated; in a future version of numpy, it will be understood as (type, (1,)) / '(1,)type'.\n",
      "  _np_qint16 = np.dtype([(\"qint16\", np.int16, 1)])\n",
      "C:\\Users\\chari\\anaconda3\\envs\\gametrick\\lib\\site-packages\\tensorflow\\python\\framework\\dtypes.py:519: FutureWarning: Passing (type, 1) or '1type' as a synonym of type is deprecated; in a future version of numpy, it will be understood as (type, (1,)) / '(1,)type'.\n",
      "  _np_quint16 = np.dtype([(\"quint16\", np.uint16, 1)])\n",
      "C:\\Users\\chari\\anaconda3\\envs\\gametrick\\lib\\site-packages\\tensorflow\\python\\framework\\dtypes.py:520: FutureWarning: Passing (type, 1) or '1type' as a synonym of type is deprecated; in a future version of numpy, it will be understood as (type, (1,)) / '(1,)type'.\n",
      "  _np_qint32 = np.dtype([(\"qint32\", np.int32, 1)])\n",
      "C:\\Users\\chari\\anaconda3\\envs\\gametrick\\lib\\site-packages\\tensorflow\\python\\framework\\dtypes.py:525: FutureWarning: Passing (type, 1) or '1type' as a synonym of type is deprecated; in a future version of numpy, it will be understood as (type, (1,)) / '(1,)type'.\n",
      "  np_resource = np.dtype([(\"resource\", np.ubyte, 1)])\n",
      "C:\\Users\\chari\\anaconda3\\envs\\gametrick\\lib\\site-packages\\tensorboard\\compat\\tensorflow_stub\\dtypes.py:541: FutureWarning: Passing (type, 1) or '1type' as a synonym of type is deprecated; in a future version of numpy, it will be understood as (type, (1,)) / '(1,)type'.\n",
      "  _np_qint8 = np.dtype([(\"qint8\", np.int8, 1)])\n",
      "C:\\Users\\chari\\anaconda3\\envs\\gametrick\\lib\\site-packages\\tensorboard\\compat\\tensorflow_stub\\dtypes.py:542: FutureWarning: Passing (type, 1) or '1type' as a synonym of type is deprecated; in a future version of numpy, it will be understood as (type, (1,)) / '(1,)type'.\n",
      "  _np_quint8 = np.dtype([(\"quint8\", np.uint8, 1)])\n",
      "C:\\Users\\chari\\anaconda3\\envs\\gametrick\\lib\\site-packages\\tensorboard\\compat\\tensorflow_stub\\dtypes.py:543: FutureWarning: Passing (type, 1) or '1type' as a synonym of type is deprecated; in a future version of numpy, it will be understood as (type, (1,)) / '(1,)type'.\n",
      "  _np_qint16 = np.dtype([(\"qint16\", np.int16, 1)])\n",
      "C:\\Users\\chari\\anaconda3\\envs\\gametrick\\lib\\site-packages\\tensorboard\\compat\\tensorflow_stub\\dtypes.py:544: FutureWarning: Passing (type, 1) or '1type' as a synonym of type is deprecated; in a future version of numpy, it will be understood as (type, (1,)) / '(1,)type'.\n",
      "  _np_quint16 = np.dtype([(\"quint16\", np.uint16, 1)])\n",
      "C:\\Users\\chari\\anaconda3\\envs\\gametrick\\lib\\site-packages\\tensorboard\\compat\\tensorflow_stub\\dtypes.py:545: FutureWarning: Passing (type, 1) or '1type' as a synonym of type is deprecated; in a future version of numpy, it will be understood as (type, (1,)) / '(1,)type'.\n",
      "  _np_qint32 = np.dtype([(\"qint32\", np.int32, 1)])\n",
      "C:\\Users\\chari\\anaconda3\\envs\\gametrick\\lib\\site-packages\\tensorboard\\compat\\tensorflow_stub\\dtypes.py:550: FutureWarning: Passing (type, 1) or '1type' as a synonym of type is deprecated; in a future version of numpy, it will be understood as (type, (1,)) / '(1,)type'.\n",
      "  np_resource = np.dtype([(\"resource\", np.ubyte, 1)])\n"
     ]
    }
   ],
   "source": [
    "# Import necessary libraries\n",
    "import pandas as pd\n",
    "from sklearn.model_selection import train_test_split\n",
    "from sklearn.metrics import mean_squared_error\n",
    "from sklearn.preprocessing import StandardScaler\n",
    "from keras.models import Sequential\n",
    "from keras.layers import Dense\n",
    "from keras.optimizers import Adam"
   ]
  },
  {
   "cell_type": "code",
   "execution_count": 3,
   "id": "67cad8d3",
   "metadata": {},
   "outputs": [],
   "source": [
    "# Load the concrete data\n",
    "data_url = \"https://cocl.us/concrete_data\"\n",
    "concrete_data = pd.read_csv(data_url)\n"
   ]
  },
  {
   "cell_type": "code",
   "execution_count": 4,
   "id": "f95a1823",
   "metadata": {},
   "outputs": [
    {
     "data": {
      "text/html": [
       "<div>\n",
       "<style scoped>\n",
       "    .dataframe tbody tr th:only-of-type {\n",
       "        vertical-align: middle;\n",
       "    }\n",
       "\n",
       "    .dataframe tbody tr th {\n",
       "        vertical-align: top;\n",
       "    }\n",
       "\n",
       "    .dataframe thead th {\n",
       "        text-align: right;\n",
       "    }\n",
       "</style>\n",
       "<table border=\"1\" class=\"dataframe\">\n",
       "  <thead>\n",
       "    <tr style=\"text-align: right;\">\n",
       "      <th></th>\n",
       "      <th>Cement</th>\n",
       "      <th>Blast Furnace Slag</th>\n",
       "      <th>Fly Ash</th>\n",
       "      <th>Water</th>\n",
       "      <th>Superplasticizer</th>\n",
       "      <th>Coarse Aggregate</th>\n",
       "      <th>Fine Aggregate</th>\n",
       "      <th>Age</th>\n",
       "      <th>Strength</th>\n",
       "    </tr>\n",
       "  </thead>\n",
       "  <tbody>\n",
       "    <tr>\n",
       "      <th>0</th>\n",
       "      <td>540.0</td>\n",
       "      <td>0.0</td>\n",
       "      <td>0.0</td>\n",
       "      <td>162.0</td>\n",
       "      <td>2.5</td>\n",
       "      <td>1040.0</td>\n",
       "      <td>676.0</td>\n",
       "      <td>28</td>\n",
       "      <td>79.99</td>\n",
       "    </tr>\n",
       "    <tr>\n",
       "      <th>1</th>\n",
       "      <td>540.0</td>\n",
       "      <td>0.0</td>\n",
       "      <td>0.0</td>\n",
       "      <td>162.0</td>\n",
       "      <td>2.5</td>\n",
       "      <td>1055.0</td>\n",
       "      <td>676.0</td>\n",
       "      <td>28</td>\n",
       "      <td>61.89</td>\n",
       "    </tr>\n",
       "    <tr>\n",
       "      <th>2</th>\n",
       "      <td>332.5</td>\n",
       "      <td>142.5</td>\n",
       "      <td>0.0</td>\n",
       "      <td>228.0</td>\n",
       "      <td>0.0</td>\n",
       "      <td>932.0</td>\n",
       "      <td>594.0</td>\n",
       "      <td>270</td>\n",
       "      <td>40.27</td>\n",
       "    </tr>\n",
       "    <tr>\n",
       "      <th>3</th>\n",
       "      <td>332.5</td>\n",
       "      <td>142.5</td>\n",
       "      <td>0.0</td>\n",
       "      <td>228.0</td>\n",
       "      <td>0.0</td>\n",
       "      <td>932.0</td>\n",
       "      <td>594.0</td>\n",
       "      <td>365</td>\n",
       "      <td>41.05</td>\n",
       "    </tr>\n",
       "    <tr>\n",
       "      <th>4</th>\n",
       "      <td>198.6</td>\n",
       "      <td>132.4</td>\n",
       "      <td>0.0</td>\n",
       "      <td>192.0</td>\n",
       "      <td>0.0</td>\n",
       "      <td>978.4</td>\n",
       "      <td>825.5</td>\n",
       "      <td>360</td>\n",
       "      <td>44.30</td>\n",
       "    </tr>\n",
       "  </tbody>\n",
       "</table>\n",
       "</div>"
      ],
      "text/plain": [
       "   Cement  Blast Furnace Slag  Fly Ash  Water  Superplasticizer  \\\n",
       "0   540.0                 0.0      0.0  162.0               2.5   \n",
       "1   540.0                 0.0      0.0  162.0               2.5   \n",
       "2   332.5               142.5      0.0  228.0               0.0   \n",
       "3   332.5               142.5      0.0  228.0               0.0   \n",
       "4   198.6               132.4      0.0  192.0               0.0   \n",
       "\n",
       "   Coarse Aggregate  Fine Aggregate  Age  Strength  \n",
       "0            1040.0           676.0   28     79.99  \n",
       "1            1055.0           676.0   28     61.89  \n",
       "2             932.0           594.0  270     40.27  \n",
       "3             932.0           594.0  365     41.05  \n",
       "4             978.4           825.5  360     44.30  "
      ]
     },
     "execution_count": 4,
     "metadata": {},
     "output_type": "execute_result"
    }
   ],
   "source": [
    "concrete_data.head()"
   ]
  },
  {
   "cell_type": "code",
   "execution_count": 5,
   "id": "8750953b",
   "metadata": {},
   "outputs": [
    {
     "data": {
      "text/html": [
       "<div>\n",
       "<style scoped>\n",
       "    .dataframe tbody tr th:only-of-type {\n",
       "        vertical-align: middle;\n",
       "    }\n",
       "\n",
       "    .dataframe tbody tr th {\n",
       "        vertical-align: top;\n",
       "    }\n",
       "\n",
       "    .dataframe thead th {\n",
       "        text-align: right;\n",
       "    }\n",
       "</style>\n",
       "<table border=\"1\" class=\"dataframe\">\n",
       "  <thead>\n",
       "    <tr style=\"text-align: right;\">\n",
       "      <th></th>\n",
       "      <th>Cement</th>\n",
       "      <th>Blast Furnace Slag</th>\n",
       "      <th>Fly Ash</th>\n",
       "      <th>Water</th>\n",
       "      <th>Superplasticizer</th>\n",
       "      <th>Coarse Aggregate</th>\n",
       "      <th>Fine Aggregate</th>\n",
       "      <th>Age</th>\n",
       "      <th>Strength</th>\n",
       "    </tr>\n",
       "  </thead>\n",
       "  <tbody>\n",
       "    <tr>\n",
       "      <th>count</th>\n",
       "      <td>1030.000000</td>\n",
       "      <td>1030.000000</td>\n",
       "      <td>1030.000000</td>\n",
       "      <td>1030.000000</td>\n",
       "      <td>1030.000000</td>\n",
       "      <td>1030.000000</td>\n",
       "      <td>1030.000000</td>\n",
       "      <td>1030.000000</td>\n",
       "      <td>1030.000000</td>\n",
       "    </tr>\n",
       "    <tr>\n",
       "      <th>mean</th>\n",
       "      <td>281.167864</td>\n",
       "      <td>73.895825</td>\n",
       "      <td>54.188350</td>\n",
       "      <td>181.567282</td>\n",
       "      <td>6.204660</td>\n",
       "      <td>972.918932</td>\n",
       "      <td>773.580485</td>\n",
       "      <td>45.662136</td>\n",
       "      <td>35.817961</td>\n",
       "    </tr>\n",
       "    <tr>\n",
       "      <th>std</th>\n",
       "      <td>104.506364</td>\n",
       "      <td>86.279342</td>\n",
       "      <td>63.997004</td>\n",
       "      <td>21.354219</td>\n",
       "      <td>5.973841</td>\n",
       "      <td>77.753954</td>\n",
       "      <td>80.175980</td>\n",
       "      <td>63.169912</td>\n",
       "      <td>16.705742</td>\n",
       "    </tr>\n",
       "    <tr>\n",
       "      <th>min</th>\n",
       "      <td>102.000000</td>\n",
       "      <td>0.000000</td>\n",
       "      <td>0.000000</td>\n",
       "      <td>121.800000</td>\n",
       "      <td>0.000000</td>\n",
       "      <td>801.000000</td>\n",
       "      <td>594.000000</td>\n",
       "      <td>1.000000</td>\n",
       "      <td>2.330000</td>\n",
       "    </tr>\n",
       "    <tr>\n",
       "      <th>25%</th>\n",
       "      <td>192.375000</td>\n",
       "      <td>0.000000</td>\n",
       "      <td>0.000000</td>\n",
       "      <td>164.900000</td>\n",
       "      <td>0.000000</td>\n",
       "      <td>932.000000</td>\n",
       "      <td>730.950000</td>\n",
       "      <td>7.000000</td>\n",
       "      <td>23.710000</td>\n",
       "    </tr>\n",
       "    <tr>\n",
       "      <th>50%</th>\n",
       "      <td>272.900000</td>\n",
       "      <td>22.000000</td>\n",
       "      <td>0.000000</td>\n",
       "      <td>185.000000</td>\n",
       "      <td>6.400000</td>\n",
       "      <td>968.000000</td>\n",
       "      <td>779.500000</td>\n",
       "      <td>28.000000</td>\n",
       "      <td>34.445000</td>\n",
       "    </tr>\n",
       "    <tr>\n",
       "      <th>75%</th>\n",
       "      <td>350.000000</td>\n",
       "      <td>142.950000</td>\n",
       "      <td>118.300000</td>\n",
       "      <td>192.000000</td>\n",
       "      <td>10.200000</td>\n",
       "      <td>1029.400000</td>\n",
       "      <td>824.000000</td>\n",
       "      <td>56.000000</td>\n",
       "      <td>46.135000</td>\n",
       "    </tr>\n",
       "    <tr>\n",
       "      <th>max</th>\n",
       "      <td>540.000000</td>\n",
       "      <td>359.400000</td>\n",
       "      <td>200.100000</td>\n",
       "      <td>247.000000</td>\n",
       "      <td>32.200000</td>\n",
       "      <td>1145.000000</td>\n",
       "      <td>992.600000</td>\n",
       "      <td>365.000000</td>\n",
       "      <td>82.600000</td>\n",
       "    </tr>\n",
       "  </tbody>\n",
       "</table>\n",
       "</div>"
      ],
      "text/plain": [
       "            Cement  Blast Furnace Slag      Fly Ash        Water  \\\n",
       "count  1030.000000         1030.000000  1030.000000  1030.000000   \n",
       "mean    281.167864           73.895825    54.188350   181.567282   \n",
       "std     104.506364           86.279342    63.997004    21.354219   \n",
       "min     102.000000            0.000000     0.000000   121.800000   \n",
       "25%     192.375000            0.000000     0.000000   164.900000   \n",
       "50%     272.900000           22.000000     0.000000   185.000000   \n",
       "75%     350.000000          142.950000   118.300000   192.000000   \n",
       "max     540.000000          359.400000   200.100000   247.000000   \n",
       "\n",
       "       Superplasticizer  Coarse Aggregate  Fine Aggregate          Age  \\\n",
       "count       1030.000000       1030.000000     1030.000000  1030.000000   \n",
       "mean           6.204660        972.918932      773.580485    45.662136   \n",
       "std            5.973841         77.753954       80.175980    63.169912   \n",
       "min            0.000000        801.000000      594.000000     1.000000   \n",
       "25%            0.000000        932.000000      730.950000     7.000000   \n",
       "50%            6.400000        968.000000      779.500000    28.000000   \n",
       "75%           10.200000       1029.400000      824.000000    56.000000   \n",
       "max           32.200000       1145.000000      992.600000   365.000000   \n",
       "\n",
       "          Strength  \n",
       "count  1030.000000  \n",
       "mean     35.817961  \n",
       "std      16.705742  \n",
       "min       2.330000  \n",
       "25%      23.710000  \n",
       "50%      34.445000  \n",
       "75%      46.135000  \n",
       "max      82.600000  "
      ]
     },
     "execution_count": 5,
     "metadata": {},
     "output_type": "execute_result"
    }
   ],
   "source": [
    "concrete_data.describe()"
   ]
  },
  {
   "cell_type": "code",
   "execution_count": 6,
   "id": "a3fe944c",
   "metadata": {},
   "outputs": [
    {
     "data": {
      "text/plain": [
       "Cement                0\n",
       "Blast Furnace Slag    0\n",
       "Fly Ash               0\n",
       "Water                 0\n",
       "Superplasticizer      0\n",
       "Coarse Aggregate      0\n",
       "Fine Aggregate        0\n",
       "Age                   0\n",
       "Strength              0\n",
       "dtype: int64"
      ]
     },
     "execution_count": 6,
     "metadata": {},
     "output_type": "execute_result"
    }
   ],
   "source": [
    "concrete_data.isnull().sum()"
   ]
  },
  {
   "cell_type": "code",
   "execution_count": 7,
   "id": "d487dba0",
   "metadata": {},
   "outputs": [],
   "source": [
    "# Extract predictors and target variable\n",
    "predictors = concrete_data.drop(columns=['Strength'])\n",
    "target = concrete_data['Strength']"
   ]
  },
  {
   "cell_type": "code",
   "execution_count": 8,
   "id": "f582b3a2",
   "metadata": {},
   "outputs": [
    {
     "data": {
      "text/html": [
       "<div>\n",
       "<style scoped>\n",
       "    .dataframe tbody tr th:only-of-type {\n",
       "        vertical-align: middle;\n",
       "    }\n",
       "\n",
       "    .dataframe tbody tr th {\n",
       "        vertical-align: top;\n",
       "    }\n",
       "\n",
       "    .dataframe thead th {\n",
       "        text-align: right;\n",
       "    }\n",
       "</style>\n",
       "<table border=\"1\" class=\"dataframe\">\n",
       "  <thead>\n",
       "    <tr style=\"text-align: right;\">\n",
       "      <th></th>\n",
       "      <th>Cement</th>\n",
       "      <th>Blast Furnace Slag</th>\n",
       "      <th>Fly Ash</th>\n",
       "      <th>Water</th>\n",
       "      <th>Superplasticizer</th>\n",
       "      <th>Coarse Aggregate</th>\n",
       "      <th>Fine Aggregate</th>\n",
       "      <th>Age</th>\n",
       "    </tr>\n",
       "  </thead>\n",
       "  <tbody>\n",
       "    <tr>\n",
       "      <th>0</th>\n",
       "      <td>540.0</td>\n",
       "      <td>0.0</td>\n",
       "      <td>0.0</td>\n",
       "      <td>162.0</td>\n",
       "      <td>2.5</td>\n",
       "      <td>1040.0</td>\n",
       "      <td>676.0</td>\n",
       "      <td>28</td>\n",
       "    </tr>\n",
       "    <tr>\n",
       "      <th>1</th>\n",
       "      <td>540.0</td>\n",
       "      <td>0.0</td>\n",
       "      <td>0.0</td>\n",
       "      <td>162.0</td>\n",
       "      <td>2.5</td>\n",
       "      <td>1055.0</td>\n",
       "      <td>676.0</td>\n",
       "      <td>28</td>\n",
       "    </tr>\n",
       "    <tr>\n",
       "      <th>2</th>\n",
       "      <td>332.5</td>\n",
       "      <td>142.5</td>\n",
       "      <td>0.0</td>\n",
       "      <td>228.0</td>\n",
       "      <td>0.0</td>\n",
       "      <td>932.0</td>\n",
       "      <td>594.0</td>\n",
       "      <td>270</td>\n",
       "    </tr>\n",
       "    <tr>\n",
       "      <th>3</th>\n",
       "      <td>332.5</td>\n",
       "      <td>142.5</td>\n",
       "      <td>0.0</td>\n",
       "      <td>228.0</td>\n",
       "      <td>0.0</td>\n",
       "      <td>932.0</td>\n",
       "      <td>594.0</td>\n",
       "      <td>365</td>\n",
       "    </tr>\n",
       "    <tr>\n",
       "      <th>4</th>\n",
       "      <td>198.6</td>\n",
       "      <td>132.4</td>\n",
       "      <td>0.0</td>\n",
       "      <td>192.0</td>\n",
       "      <td>0.0</td>\n",
       "      <td>978.4</td>\n",
       "      <td>825.5</td>\n",
       "      <td>360</td>\n",
       "    </tr>\n",
       "  </tbody>\n",
       "</table>\n",
       "</div>"
      ],
      "text/plain": [
       "   Cement  Blast Furnace Slag  Fly Ash  Water  Superplasticizer  \\\n",
       "0   540.0                 0.0      0.0  162.0               2.5   \n",
       "1   540.0                 0.0      0.0  162.0               2.5   \n",
       "2   332.5               142.5      0.0  228.0               0.0   \n",
       "3   332.5               142.5      0.0  228.0               0.0   \n",
       "4   198.6               132.4      0.0  192.0               0.0   \n",
       "\n",
       "   Coarse Aggregate  Fine Aggregate  Age  \n",
       "0            1040.0           676.0   28  \n",
       "1            1055.0           676.0   28  \n",
       "2             932.0           594.0  270  \n",
       "3             932.0           594.0  365  \n",
       "4             978.4           825.5  360  "
      ]
     },
     "execution_count": 8,
     "metadata": {},
     "output_type": "execute_result"
    }
   ],
   "source": [
    "predictors.head()"
   ]
  },
  {
   "cell_type": "code",
   "execution_count": 9,
   "id": "b230c71d",
   "metadata": {},
   "outputs": [
    {
     "data": {
      "text/plain": [
       "0    79.99\n",
       "1    61.89\n",
       "2    40.27\n",
       "3    41.05\n",
       "4    44.30\n",
       "Name: Strength, dtype: float64"
      ]
     },
     "execution_count": 9,
     "metadata": {},
     "output_type": "execute_result"
    }
   ],
   "source": [
    "target.head()"
   ]
  },
  {
   "cell_type": "code",
   "execution_count": 11,
   "id": "93e71c72",
   "metadata": {},
   "outputs": [],
   "source": [
    "n_col = predictors.shape[1]"
   ]
  },
  {
   "cell_type": "code",
   "execution_count": 12,
   "id": "14e2292c",
   "metadata": {},
   "outputs": [
    {
     "data": {
      "text/plain": [
       "8"
      ]
     },
     "execution_count": 12,
     "metadata": {},
     "output_type": "execute_result"
    }
   ],
   "source": [
    "n_col"
   ]
  },
  {
   "cell_type": "code",
   "execution_count": 19,
   "id": "d066b84d",
   "metadata": {},
   "outputs": [],
   "source": [
    "# Function to build and evaluate the model\n",
    "def build_and_evaluate_model():\n",
    "    # Split the data into training and test sets\n",
    "    X_train, X_test, y_train, y_test = train_test_split(predictors, target, test_size=0.3, random_state=42)\n",
    "    \n",
    "    # Build the model\n",
    "    model = Sequential()\n",
    "    model.add(Dense(10, activation='relu', input_shape=(n_col,))) #hiddne layer\n",
    "    model.add(Dense(1))  # Output layer\n",
    "    \n",
    "    # Compile the model\n",
    "    model.compile(optimizer='adam', loss='mean_squared_error')\n",
    "    \n",
    "    # Train the model\n",
    "    model.fit(X_train, y_train, epochs=50, verbose=0)\n",
    "    \n",
    "    # Evaluate the model on test data\n",
    "    y_pred = model.predict(X_test)\n",
    "    mse = mean_squared_error(y_test, y_pred)\n",
    "    \n",
    "    return mse"
   ]
  },
  {
   "cell_type": "code",
   "execution_count": 16,
   "id": "2c57b195",
   "metadata": {},
   "outputs": [],
   "source": [
    "# List to store mean squared errors\n",
    "mse_list = []"
   ]
  },
  {
   "cell_type": "code",
   "execution_count": 17,
   "id": "ff697f07",
   "metadata": {},
   "outputs": [
    {
     "name": "stdout",
     "output_type": "stream",
     "text": [
      "WARNING:tensorflow:From C:\\Users\\chari\\anaconda3\\envs\\gametrick\\lib\\site-packages\\keras\\backend\\tensorflow_backend.py:422: The name tf.global_variables is deprecated. Please use tf.compat.v1.global_variables instead.\n",
      "\n"
     ]
    }
   ],
   "source": [
    "# Repeat steps 1-3 for 50 times\n",
    "for _ in range(50):\n",
    "    mse = build_and_evaluate_model()\n",
    "    mse_list.append(mse)"
   ]
  },
  {
   "cell_type": "code",
   "execution_count": 23,
   "id": "ed791d8c",
   "metadata": {},
   "outputs": [
    {
     "data": {
      "text/plain": [
       "[99.83445677776012,\n",
       " 308.2744987209072,\n",
       " 484.91218220432944,\n",
       " 135.92553942932693,\n",
       " 252.6554433209635,\n",
       " 453.35931137393186,\n",
       " 199.71871655878692,\n",
       " 828.3333931230319,\n",
       " 110.10291608147742,\n",
       " 188.24348624821312,\n",
       " 977.3886981785665,\n",
       " 380.2593012774899,\n",
       " 179.02729142267597,\n",
       " 113.78864699055319,\n",
       " 187.30837607986743,\n",
       " 542.4108434237265,\n",
       " 107.8151562316579,\n",
       " 111.93757073946816,\n",
       " 132.77326998204276,\n",
       " 129.15487407300452,\n",
       " 112.7467108458042,\n",
       " 1863.531375168345,\n",
       " 1529.9043932716509,\n",
       " 570.0101093505311,\n",
       " 121.8754924249512,\n",
       " 134.23267955870983,\n",
       " 134.87259573786145,\n",
       " 204.60592760485525,\n",
       " 147.9801320666597,\n",
       " 252.38081500335056,\n",
       " 244.6429368946897,\n",
       " 656.0051072451565,\n",
       " 137.84779515861155,\n",
       " 159.82832801853385,\n",
       " 467.64415089253464,\n",
       " 125.24138760294845,\n",
       " 196.56144546673363,\n",
       " 254.043669584159,\n",
       " 111.88396717950704,\n",
       " 132.59354304566006,\n",
       " 237.19341385887887,\n",
       " 115.75209371515169,\n",
       " 143.48241611688357,\n",
       " 258.6170361906806,\n",
       " 136.85554987758135,\n",
       " 180.82276316940633,\n",
       " 108.75769139764064,\n",
       " 312.6547237398439,\n",
       " 1283.9205613607148,\n",
       " 1734.182474729901]"
      ]
     },
     "execution_count": 23,
     "metadata": {},
     "output_type": "execute_result"
    }
   ],
   "source": [
    "mse_list"
   ]
  },
  {
   "cell_type": "code",
   "execution_count": 21,
   "id": "1b616b62",
   "metadata": {},
   "outputs": [],
   "source": [
    "import numpy as np\n",
    "# Calculate mean and standard deviation of mean squared errors\n",
    "mean_mse = np.mean(mse_list)\n",
    "std_mse = np.std(mse_list)\n"
   ]
  },
  {
   "cell_type": "code",
   "execution_count": 22,
   "id": "2686e80c",
   "metadata": {},
   "outputs": [
    {
     "name": "stdout",
     "output_type": "stream",
     "text": [
      "Mean of Mean Squared Errors: 359.8779051703143\n",
      "Standard Deviation of Mean Squared Errors: 416.28048685070377\n"
     ]
    }
   ],
   "source": [
    "# Print the results\n",
    "print(\"Mean of Mean Squared Errors:\", mean_mse)\n",
    "print(\"Standard Deviation of Mean Squared Errors:\", std_mse)"
   ]
  },
  {
   "cell_type": "markdown",
   "id": "19968f0b",
   "metadata": {},
   "source": [
    "## part B"
   ]
  },
  {
   "cell_type": "code",
   "execution_count": 25,
   "id": "58ab2011",
   "metadata": {},
   "outputs": [
    {
     "data": {
      "text/html": [
       "<div>\n",
       "<style scoped>\n",
       "    .dataframe tbody tr th:only-of-type {\n",
       "        vertical-align: middle;\n",
       "    }\n",
       "\n",
       "    .dataframe tbody tr th {\n",
       "        vertical-align: top;\n",
       "    }\n",
       "\n",
       "    .dataframe thead th {\n",
       "        text-align: right;\n",
       "    }\n",
       "</style>\n",
       "<table border=\"1\" class=\"dataframe\">\n",
       "  <thead>\n",
       "    <tr style=\"text-align: right;\">\n",
       "      <th></th>\n",
       "      <th>Cement</th>\n",
       "      <th>Blast Furnace Slag</th>\n",
       "      <th>Fly Ash</th>\n",
       "      <th>Water</th>\n",
       "      <th>Superplasticizer</th>\n",
       "      <th>Coarse Aggregate</th>\n",
       "      <th>Fine Aggregate</th>\n",
       "      <th>Age</th>\n",
       "    </tr>\n",
       "  </thead>\n",
       "  <tbody>\n",
       "    <tr>\n",
       "      <th>0</th>\n",
       "      <td>2.476712</td>\n",
       "      <td>-0.856472</td>\n",
       "      <td>-0.846733</td>\n",
       "      <td>-0.916319</td>\n",
       "      <td>-0.620147</td>\n",
       "      <td>0.862735</td>\n",
       "      <td>-1.217079</td>\n",
       "      <td>-0.279597</td>\n",
       "    </tr>\n",
       "    <tr>\n",
       "      <th>1</th>\n",
       "      <td>2.476712</td>\n",
       "      <td>-0.856472</td>\n",
       "      <td>-0.846733</td>\n",
       "      <td>-0.916319</td>\n",
       "      <td>-0.620147</td>\n",
       "      <td>1.055651</td>\n",
       "      <td>-1.217079</td>\n",
       "      <td>-0.279597</td>\n",
       "    </tr>\n",
       "    <tr>\n",
       "      <th>2</th>\n",
       "      <td>0.491187</td>\n",
       "      <td>0.795140</td>\n",
       "      <td>-0.846733</td>\n",
       "      <td>2.174405</td>\n",
       "      <td>-1.038638</td>\n",
       "      <td>-0.526262</td>\n",
       "      <td>-2.239829</td>\n",
       "      <td>3.551340</td>\n",
       "    </tr>\n",
       "    <tr>\n",
       "      <th>3</th>\n",
       "      <td>0.491187</td>\n",
       "      <td>0.795140</td>\n",
       "      <td>-0.846733</td>\n",
       "      <td>2.174405</td>\n",
       "      <td>-1.038638</td>\n",
       "      <td>-0.526262</td>\n",
       "      <td>-2.239829</td>\n",
       "      <td>5.055221</td>\n",
       "    </tr>\n",
       "    <tr>\n",
       "      <th>4</th>\n",
       "      <td>-0.790075</td>\n",
       "      <td>0.678079</td>\n",
       "      <td>-0.846733</td>\n",
       "      <td>0.488555</td>\n",
       "      <td>-1.038638</td>\n",
       "      <td>0.070492</td>\n",
       "      <td>0.647569</td>\n",
       "      <td>4.976069</td>\n",
       "    </tr>\n",
       "  </tbody>\n",
       "</table>\n",
       "</div>"
      ],
      "text/plain": [
       "     Cement  Blast Furnace Slag   Fly Ash     Water  Superplasticizer  \\\n",
       "0  2.476712           -0.856472 -0.846733 -0.916319         -0.620147   \n",
       "1  2.476712           -0.856472 -0.846733 -0.916319         -0.620147   \n",
       "2  0.491187            0.795140 -0.846733  2.174405         -1.038638   \n",
       "3  0.491187            0.795140 -0.846733  2.174405         -1.038638   \n",
       "4 -0.790075            0.678079 -0.846733  0.488555         -1.038638   \n",
       "\n",
       "   Coarse Aggregate  Fine Aggregate       Age  \n",
       "0          0.862735       -1.217079 -0.279597  \n",
       "1          1.055651       -1.217079 -0.279597  \n",
       "2         -0.526262       -2.239829  3.551340  \n",
       "3         -0.526262       -2.239829  5.055221  \n",
       "4          0.070492        0.647569  4.976069  "
      ]
     },
     "execution_count": 25,
     "metadata": {},
     "output_type": "execute_result"
    }
   ],
   "source": [
    "predictors_norm = (predictors - predictors.mean()) / predictors.std()\n",
    "predictors_norm.head()"
   ]
  },
  {
   "cell_type": "code",
   "execution_count": 34,
   "id": "6f2dc76e",
   "metadata": {},
   "outputs": [],
   "source": [
    "# Function to normalize data, build, and evaluate the model\n",
    "def build_and_evaluate_normalized_model():\n",
    "    \n",
    "    # Split the normalized data into training and test sets\n",
    "    X_train, X_test, y_train, y_test = train_test_split(predictors_norm, target, test_size=0.3, random_state=42)\n",
    "    \n",
    "    # Build the model\n",
    "    model = Sequential()\n",
    "    model.add(Dense(10, activation='relu', input_shape=(n_col,)))\n",
    "    model.add(Dense(1))  # Output layer\n",
    "    \n",
    "    # Compile the model\n",
    "    model.compile(optimizer='adam', loss='mean_squared_error')\n",
    "    \n",
    "    # Train the model\n",
    "    model.fit(X_train, y_train, epochs=50, verbose=0)\n",
    "    \n",
    "    # Evaluate the model on normalized test data\n",
    "    y_pred_nom = model.predict(X_test)\n",
    "    mse_nom = mean_squared_error(y_test, y_pred_nom)\n",
    "    \n",
    "    return mse_nom\n"
   ]
  },
  {
   "cell_type": "code",
   "execution_count": 35,
   "id": "4f7b557e",
   "metadata": {},
   "outputs": [],
   "source": [
    "# List to store mean squared errors for normalized data\n",
    "mse_normalized_list = []\n"
   ]
  },
  {
   "cell_type": "code",
   "execution_count": 36,
   "id": "d078e3cd",
   "metadata": {},
   "outputs": [],
   "source": [
    "# Repeat steps 1-3 for 50 times using normalized data\n",
    "for _ in range(50):\n",
    "    mse_nom = build_and_evaluate_normalized_model()\n",
    "    mse_normalized_list.append(mse_nom)"
   ]
  },
  {
   "cell_type": "code",
   "execution_count": 37,
   "id": "e13acb11",
   "metadata": {},
   "outputs": [
    {
     "data": {
      "text/plain": [
       "[289.0367308913763,\n",
       " 297.81053606555787,\n",
       " 256.56130884462317,\n",
       " 354.08957794324647,\n",
       " 294.0248340962118,\n",
       " 405.6951873232538,\n",
       " 339.4234687114668,\n",
       " 347.82176708795447,\n",
       " 340.7917627723063,\n",
       " 357.76235029989624,\n",
       " 402.5071468670158,\n",
       " 259.77065676397484,\n",
       " 471.6349442286355,\n",
       " 343.18462546956977,\n",
       " 248.17900083942092,\n",
       " 219.49315772388164,\n",
       " 394.36418300563656,\n",
       " 371.1775093846026,\n",
       " 329.58742287542213,\n",
       " 314.79241298265134,\n",
       " 227.744827520364,\n",
       " 396.6356216870581,\n",
       " 430.2921124183657,\n",
       " 275.94388958299425,\n",
       " 292.13894220889284,\n",
       " 452.40861539146846,\n",
       " 247.98061061695574,\n",
       " 276.5291307117603,\n",
       " 371.3608328434306,\n",
       " 387.73248730969624,\n",
       " 286.7722132218799,\n",
       " 306.0883350552032,\n",
       " 298.2238218626036,\n",
       " 332.78141698912685,\n",
       " 329.2207376352921,\n",
       " 269.1776404115156,\n",
       " 307.7180144717006,\n",
       " 409.9747347926312,\n",
       " 323.5773721441119,\n",
       " 400.16268949174525,\n",
       " 298.93866448474733,\n",
       " 346.0351570476385,\n",
       " 295.76187883854845,\n",
       " 330.72740957376845,\n",
       " 404.9693403879549,\n",
       " 363.88810481079065,\n",
       " 226.24170376743984,\n",
       " 390.7663245142397,\n",
       " 305.04934689911227,\n",
       " 384.5471975001456]"
      ]
     },
     "execution_count": 37,
     "metadata": {},
     "output_type": "execute_result"
    }
   ],
   "source": [
    "mse_normalized_list"
   ]
  },
  {
   "cell_type": "code",
   "execution_count": 38,
   "id": "b307546c",
   "metadata": {},
   "outputs": [],
   "source": [
    "# Calculate mean and standard deviation of mean squared errors for normalized data\n",
    "mean_mse_normalized = np.mean(mse_normalized_list)\n",
    "std_mse_normalized = np.std(mse_normalized_list)\n"
   ]
  },
  {
   "cell_type": "code",
   "execution_count": 39,
   "id": "91e7bc37",
   "metadata": {},
   "outputs": [
    {
     "name": "stdout",
     "output_type": "stream",
     "text": [
      "Mean of Mean Squared Errors (Normalized Data): 332.14195516735776\n",
      "Standard Deviation of Mean Squared Errors (Normalized Data): 59.55407111421774\n",
      "\n",
      "Comparison with Part A:\n",
      "Mean of Mean Squared Errors (Part A): 359.8779051703143\n"
     ]
    }
   ],
   "source": [
    "# Print the results\n",
    "print(\"Mean of Mean Squared Errors (Normalized Data):\", mean_mse_normalized)\n",
    "print(\"Standard Deviation of Mean Squared Errors (Normalized Data):\", std_mse_normalized)\n",
    "\n",
    "# Compare with the results from Part A\n",
    "print(\"\\nComparison with Part A:\")\n",
    "print(\"Mean of Mean Squared Errors (Part A):\", mean_mse)"
   ]
  },
  {
   "cell_type": "markdown",
   "id": "3163d5c0",
   "metadata": {},
   "source": [
    "## part c"
   ]
  },
  {
   "cell_type": "code",
   "execution_count": 47,
   "id": "8a014456",
   "metadata": {},
   "outputs": [],
   "source": [
    "# Function to normalize data, build, and evaluate the model\n",
    "def build_and_evaluate_increased_epochs_model():\n",
    "    \n",
    "    # Split the normalized data into training and test sets\n",
    "    X_train, X_test, y_train, y_test = train_test_split(predictors_norm, target, test_size=0.3, random_state=42)\n",
    "    \n",
    "    # Build the model\n",
    "    model = Sequential()\n",
    "    model.add(Dense(10, activation='relu', input_shape=(n_col,)))\n",
    "    model.add(Dense(1))  # Output layer\n",
    "    \n",
    "    # Compile the model\n",
    "    model.compile(optimizer='adam', loss='mean_squared_error')\n",
    "    \n",
    "    # Train the model\n",
    "    model.fit(X_train, y_train, epochs=100, verbose=0)\n",
    "    \n",
    "   # Evaluate the model on normalized test data\n",
    "    y_pred_nom = model.predict(X_test)\n",
    "    mse_increased_epochs = mean_squared_error(y_test, y_pred_nom)\n",
    "    \n",
    "    return mse_increased_epochs\n"
   ]
  },
  {
   "cell_type": "code",
   "execution_count": 48,
   "id": "80c2d43b",
   "metadata": {},
   "outputs": [],
   "source": [
    "# List to store mean squared errors for increased epochs\n",
    "mse_increased_epochs_list = []"
   ]
  },
  {
   "cell_type": "code",
   "execution_count": 49,
   "id": "2e4dfd77",
   "metadata": {},
   "outputs": [],
   "source": [
    "# Repeat steps 1-3 for 50 times using increased epochs\n",
    "for _ in range(50):\n",
    "    mse_increased_epochs = build_and_evaluate_increased_epochs_model()\n",
    "    mse_increased_epochs_list.append(mse_increased_epochs)"
   ]
  },
  {
   "cell_type": "code",
   "execution_count": 50,
   "id": "5614f2a7",
   "metadata": {},
   "outputs": [],
   "source": [
    "# Calculate mean and standard deviation of mean squared errors for increased epochs\n",
    "mean_mse_increased_epochs = np.mean(mse_increased_epochs_list)\n",
    "std_mse_increased_epochs = np.std(mse_increased_epochs_list)"
   ]
  },
  {
   "cell_type": "code",
   "execution_count": 51,
   "id": "bb9d430e",
   "metadata": {},
   "outputs": [
    {
     "name": "stdout",
     "output_type": "stream",
     "text": [
      "Mean of Mean Squared Errors (Increased Epochs): 159.56862910047118\n",
      "Standard Deviation of Mean Squared Errors (Increased Epochs): 18.45836415266471\n",
      "\n",
      "Comparison with Part B:\n",
      "Mean of Mean Squared Errors (Part B): 332.14195516735776\n"
     ]
    }
   ],
   "source": [
    "# Print the results\n",
    "print(\"Mean of Mean Squared Errors (Increased Epochs):\", mean_mse_increased_epochs)\n",
    "print(\"Standard Deviation of Mean Squared Errors (Increased Epochs):\", std_mse_increased_epochs)\n",
    "\n",
    "# Compare with the results from Part B\n",
    "print(\"\\nComparison with Part B:\")\n",
    "print(\"Mean of Mean Squared Errors (Part B):\", mean_mse_normalized)"
   ]
  },
  {
   "cell_type": "markdown",
   "id": "7ae5ecaa",
   "metadata": {},
   "source": [
    "## part D"
   ]
  },
  {
   "cell_type": "code",
   "execution_count": 52,
   "id": "dc13c35f",
   "metadata": {},
   "outputs": [],
   "source": [
    "# Function to normalize data, build, and evaluate the model with three hidden layers\n",
    "def build_and_evaluate_increased_hidden_layers_model():\n",
    "    \n",
    "    # Split the normalized data into training and test sets\n",
    "    X_train, X_test, y_train, y_test = train_test_split(predictors_norm, target, test_size=0.3, random_state=42)\n",
    "    \n",
    "    # Build the model with three hidden layers\n",
    "    model = Sequential()\n",
    "    #3 hiddne layer\n",
    "    model.add(Dense(10, activation='relu', input_shape=(n_col,)))\n",
    "    model.add(Dense(10, activation='relu'))\n",
    "    model.add(Dense(10, activation='relu'))\n",
    "    model.add(Dense(1))  # Output layer\n",
    "    \n",
    "    # Compile the model\n",
    "    model.compile(optimizer='adam', loss='mean_squared_error')\n",
    "    \n",
    "    # Train the model with 50 epochs\n",
    "    model.fit(X_train, y_train, epochs=50, verbose=0)\n",
    "    \n",
    "    # Evaluate the model on normalized test data\n",
    "    y_pred_nom = model.predict(X_test)\n",
    "    mse_increased_hidden_layers = mean_squared_error(y_test, y_pred_nom)\n",
    "    \n",
    "    return mse_increased_hidden_layers"
   ]
  },
  {
   "cell_type": "code",
   "execution_count": 53,
   "id": "2e17b18d",
   "metadata": {},
   "outputs": [],
   "source": [
    "# List to store mean squared errors for increased hidden layers\n",
    "mse_increased_hidden_layers_list = []\n"
   ]
  },
  {
   "cell_type": "code",
   "execution_count": 54,
   "id": "ece4c9a5",
   "metadata": {},
   "outputs": [],
   "source": [
    "# Repeat steps 1-3 for 50 times using increased hidden layers\n",
    "for _ in range(50):\n",
    "    mse_increased_hidden_layers = build_and_evaluate_increased_hidden_layers_model()\n",
    "    mse_increased_hidden_layers_list.append(mse_increased_hidden_layers)\n"
   ]
  },
  {
   "cell_type": "code",
   "execution_count": 55,
   "id": "4664eaf6",
   "metadata": {},
   "outputs": [
    {
     "data": {
      "text/plain": [
       "[131.84104594187627,\n",
       " 108.15703717135028,\n",
       " 125.32841600586049,\n",
       " 122.02264232218984,\n",
       " 105.01008615114651,\n",
       " 143.75355454742956,\n",
       " 108.3500068924695,\n",
       " 123.11104031637439,\n",
       " 138.3113714081265,\n",
       " 128.64420118466268,\n",
       " 105.78297662811975,\n",
       " 124.83088097625718,\n",
       " 117.12352784194597,\n",
       " 134.31410220602575,\n",
       " 86.1711414907119,\n",
       " 129.0160270886748,\n",
       " 130.68810267703248,\n",
       " 118.54318244580398,\n",
       " 129.52276181997948,\n",
       " 127.54258347242042,\n",
       " 124.82352395377998,\n",
       " 114.2931824741648,\n",
       " 131.09150623083585,\n",
       " 133.46624203572594,\n",
       " 118.35190910628083,\n",
       " 101.58058514590425,\n",
       " 102.14033138534336,\n",
       " 106.5444181446346,\n",
       " 143.2980966307708,\n",
       " 123.39380406752147,\n",
       " 126.42236926143258,\n",
       " 124.0252118477835,\n",
       " 129.58988229752265,\n",
       " 97.3927465938799,\n",
       " 122.29332820553279,\n",
       " 128.0826850948744,\n",
       " 129.91659638814767,\n",
       " 132.45386253866266,\n",
       " 129.77715973720407,\n",
       " 135.74391005985595,\n",
       " 104.80834108552448,\n",
       " 134.39560719615335,\n",
       " 128.67302413527185,\n",
       " 99.67591006192848,\n",
       " 116.36931830498655,\n",
       " 116.96681737505602,\n",
       " 139.96232346239213,\n",
       " 74.6113485441086,\n",
       " 132.19277577463023,\n",
       " 118.95155177352585]"
      ]
     },
     "execution_count": 55,
     "metadata": {},
     "output_type": "execute_result"
    }
   ],
   "source": [
    "# Calculate mean and standard deviation of mean squared errors for increased hidden layers\n",
    "mean_mse_increased_hidden_layers = np.mean(mse_increased_hidden_layers_list)\n",
    "std_mse_increased_hidden_layers = np.std(mse_increased_hidden_layers_list)\n",
    "mse_increased_hidden_layers_list"
   ]
  },
  {
   "cell_type": "code",
   "execution_count": 56,
   "id": "36a70272",
   "metadata": {},
   "outputs": [
    {
     "name": "stdout",
     "output_type": "stream",
     "text": [
      "Mean of Mean Squared Errors (Increased Hidden Layers): 121.18706115003786\n",
      "Standard Deviation of Mean Squared Errors (Increased Hidden Layers): 14.252502083031345\n",
      "\n",
      "Comparison with Part B:\n",
      "Mean of Mean Squared Errors (Part B): 332.14195516735776\n"
     ]
    }
   ],
   "source": [
    "# Print the results\n",
    "print(\"Mean of Mean Squared Errors (Increased Hidden Layers):\", mean_mse_increased_hidden_layers)\n",
    "print(\"Standard Deviation of Mean Squared Errors (Increased Hidden Layers):\", std_mse_increased_hidden_layers)\n",
    "\n",
    "# Compare with the results from Part B\n",
    "print(\"\\nComparison with Part B:\")\n",
    "print(\"Mean of Mean Squared Errors (Part B):\", mean_mse_normalized)"
   ]
  },
  {
   "cell_type": "code",
   "execution_count": null,
   "id": "caea79d4",
   "metadata": {},
   "outputs": [],
   "source": []
  }
 ],
 "metadata": {
  "kernelspec": {
   "display_name": "Python 3 (ipykernel)",
   "language": "python",
   "name": "python3"
  },
  "language_info": {
   "codemirror_mode": {
    "name": "ipython",
    "version": 3
   },
   "file_extension": ".py",
   "mimetype": "text/x-python",
   "name": "python",
   "nbconvert_exporter": "python",
   "pygments_lexer": "ipython3",
   "version": "3.7.12"
  }
 },
 "nbformat": 4,
 "nbformat_minor": 5
}
